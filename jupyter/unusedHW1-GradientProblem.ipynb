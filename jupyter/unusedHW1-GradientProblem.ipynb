{
  "nbformat": 4,
  "nbformat_minor": 0,
  "metadata": {
    "kernelspec": {
      "display_name": "Python 2",
      "language": "python",
      "name": "python2"
    },
    "language_info": {
      "codemirror_mode": {
        "name": "ipython",
        "version": 2
      },
      "file_extension": ".py",
      "mimetype": "text/x-python",
      "name": "python",
      "nbconvert_exporter": "python",
      "pygments_lexer": "ipython2",
      "version": "2.7.11"
    },
    "colab": {
      "name": "HW1-GradientProblem.ipynb",
      "version": "0.3.2",
      "provenance": []
    }
  },
  "cells": [
    {
      "cell_type": "markdown",
      "metadata": {
        "id": "FRWD540npN89",
        "colab_type": "text"
      },
      "source": [
        "# The Python symbolic math library -- `sympy`\n",
        "\n",
        "The [`sympy`](http://sympy.org) library allows you to perform symbolic mathematical manipulations in a wide variety of contexts. This library works in a way similar to Mathematica - using functions and methods to perform these manipulations. In this computational problem, you will use a few `sympy` tools to compute the gradient of some scalar functions.\n",
        "\n",
        "To perform computational tasks with Python, you will often need to import a variety of libraries. The first of these you will learn about is `sympy`. In this problem, you will learn about two ways to compute the gradient symbolically with sympy. You may use either of these to solve the problem posed.\n",
        "\n",
        "### [Skip to problem to solve](./HW1-GradientProblem.ipynb#Problems-to-solve)"
      ]
    },
    {
      "cell_type": "markdown",
      "metadata": {
        "id": "2gSl5ZDspN8-",
        "colab_type": "text"
      },
      "source": [
        "### Getting Started with Jupyter and Python Libraries\n",
        "\n",
        "First things first, you will need to import methods, functions, and classes from the `sympy` library and set up the printing of the symbolic math. With `sympy`, mathematical symbols are typically printed in plain text unless you specify otherwise. We will use [mathjax](https://www.mathjax.org/) for printing the mathematical symbols, which makes the symbols look like the mathematical symbols you see in your textbook. \n",
        "\n",
        "The two lines below: (1) import all the methods from sympy and (2) set the printing method to use mathjax."
      ]
    },
    {
      "cell_type": "code",
      "metadata": {
        "id": "orE6VSeVpN8_",
        "colab_type": "code",
        "colab": {}
      },
      "source": [
        "from sympy import *                # import methods from sympy\n",
        "init_printing(use_latex='mathjax') # set up printing using mathjax"
      ],
      "execution_count": 0,
      "outputs": []
    },
    {
      "cell_type": "markdown",
      "metadata": {
        "id": "VWoqGgu5pN9B",
        "colab_type": "text"
      },
      "source": [
        "### Specifying symbolic variables\n",
        "\n",
        "To perform symbolic manipulations, `sympy` needs to know which variables are symbolic, that is, which ones are meant to represent variables that appear in your mathematical functions. In this problem, you will use functions of three variables $(x, y, z)$. So, you need to tell `sympy` that $x, y,$ and $z$ are variables. You do this with the `symbols` function."
      ]
    },
    {
      "cell_type": "code",
      "metadata": {
        "id": "6c7kPNgMpN9C",
        "colab_type": "code",
        "colab": {}
      },
      "source": [
        "x, y, z = symbols('x y z')"
      ],
      "execution_count": 0,
      "outputs": []
    },
    {
      "cell_type": "markdown",
      "metadata": {
        "id": "u_skAFeBpN9D",
        "colab_type": "text"
      },
      "source": [
        "### Constructing scalar functions\n",
        "\n",
        "With the symbolic variables specified, you may now construct a scalar function of these variables by assigning a new variable to a mathematical function that you specify. For example, below three different functions are constructed to illustrate some of the mathematical syntax that Python uses. \n",
        "\n",
        "* $f(x,y,z) = x^2+y+z^3$\n",
        "* $g(x,y,z) = e^{x}\\sin(y)\\log(z)$\n",
        "* $h(x,y,z) = \\dfrac{\\sqrt{x}}{x^2+y^2+z^2}$\n",
        "\n",
        "Notice that Jupyter will not print the function when the assignment is performed. But if you call the function by its name alone, it will."
      ]
    },
    {
      "cell_type": "code",
      "metadata": {
        "id": "saJ7g0hHpN9E",
        "colab_type": "code",
        "colab": {},
        "outputId": "2710f26b-aaf9-4451-d846-59bbfb5eb1ad"
      },
      "source": [
        "f = x**2 + y + z **3    # Two stars indiciate that a quantity is raised to a power\n",
        "f"
      ],
      "execution_count": 0,
      "outputs": [
        {
          "output_type": "execute_result",
          "data": {
            "text/latex": "$$x^{2} + y + z^{3}$$",
            "text/plain": [
              " 2        3\n",
              "x  + y + z "
            ]
          },
          "metadata": {
            "tags": []
          },
          "execution_count": 4
        }
      ]
    },
    {
      "cell_type": "code",
      "metadata": {
        "id": "j8gIlBTLpN9G",
        "colab_type": "code",
        "colab": {},
        "outputId": "8c1c5780-503b-4a04-c9e8-849ca7c2d0bc"
      },
      "source": [
        "g = exp(x)*sin(y)*log(z)   # Known mathematical functions such as e, sin, etc. are defined in Python\n",
        "g"
      ],
      "execution_count": 0,
      "outputs": [
        {
          "output_type": "execute_result",
          "data": {
            "text/latex": "$$e^{x} \\log{\\left (z \\right )} \\sin{\\left (y \\right )}$$",
            "text/plain": [
              " x              \n",
              "ℯ ⋅log(z)⋅sin(y)"
            ]
          },
          "metadata": {
            "tags": []
          },
          "execution_count": 5
        }
      ]
    },
    {
      "cell_type": "code",
      "metadata": {
        "id": "vOuH2Fa7pN9I",
        "colab_type": "code",
        "colab": {},
        "outputId": "5f882968-2dc0-44dd-b2cc-11835d22c6c8"
      },
      "source": [
        "h = sqrt(x)/(x**2+y**2+z**2)    #Pay attention to parantheses to ensure proper order of operations\n",
        "h"
      ],
      "execution_count": 0,
      "outputs": [
        {
          "output_type": "execute_result",
          "data": {
            "text/latex": "$$\\frac{\\sqrt{x}}{x^{2} + y^{2} + z^{2}}$$",
            "text/plain": [
              "     √x     \n",
              "────────────\n",
              " 2    2    2\n",
              "x  + y  + z "
            ]
          },
          "metadata": {
            "tags": []
          },
          "execution_count": 6
        }
      ]
    },
    {
      "cell_type": "markdown",
      "metadata": {
        "id": "BQdsupL2pN9K",
        "colab_type": "text"
      },
      "source": [
        "### Method 1 - Computing the gradient using the `diff` function\n",
        "\n",
        "The function `diff` can be used to [compute derivatives with respect to specified variables](http://docs.sympy.org/latest/tutorial/calculus.html#derivatives). To compute the gradient of the function $f$, you would compute partial derivatives with respect to each variable:\n",
        "\n",
        "$$\\nabla f(x,y,z,) = \\dfrac{\\partial f}{\\partial x} \\hat{x} + \\dfrac{\\partial f}{\\partial y} \\hat{y} + \\dfrac{\\partial f}{\\partial z} \\hat{z}$$\n",
        "\n",
        "Because the `diff` function computes a derivative with respect to a single variable, it can be used to compute each of the partial derivatives that form the gradient. For example,\n",
        "\n",
        "$$\\dfrac{\\partial f}{\\partial x} = 2x$$\n",
        "$$\\dfrac{\\partial f}{\\partial y} = 1$$\n",
        "$$\\dfrac{\\partial f}{\\partial z} = 3z^2$$\n",
        "\n",
        "To compute the first of these partial derivatives, we call `diff(f,x)`. The others are similarly called."
      ]
    },
    {
      "cell_type": "code",
      "metadata": {
        "id": "mOoEYsN9pN9K",
        "colab_type": "code",
        "colab": {},
        "outputId": "d490a03e-a8ec-43bf-9237-11dfd6ca90e2"
      },
      "source": [
        "diff(f,x)"
      ],
      "execution_count": 0,
      "outputs": [
        {
          "output_type": "execute_result",
          "data": {
            "text/latex": "$$2 x$$",
            "text/plain": [
              "2⋅x"
            ]
          },
          "metadata": {
            "tags": []
          },
          "execution_count": 7
        }
      ]
    },
    {
      "cell_type": "code",
      "metadata": {
        "id": "hUKdoJDwpN9M",
        "colab_type": "code",
        "colab": {},
        "outputId": "d05e0d38-1fc1-4034-a8c7-9186d3f03e70"
      },
      "source": [
        "diff(f,y)"
      ],
      "execution_count": 0,
      "outputs": [
        {
          "output_type": "execute_result",
          "data": {
            "text/latex": "$$1$$",
            "text/plain": [
              "1"
            ]
          },
          "metadata": {
            "tags": []
          },
          "execution_count": 8
        }
      ]
    },
    {
      "cell_type": "code",
      "metadata": {
        "id": "imQ_FFSLpN9O",
        "colab_type": "code",
        "colab": {},
        "outputId": "e20b8a13-4c06-471d-e9d7-f7055ff1d8ae"
      },
      "source": [
        "diff(f,z)"
      ],
      "execution_count": 0,
      "outputs": [
        {
          "output_type": "execute_result",
          "data": {
            "text/latex": "$$3 z^{2}$$",
            "text/plain": [
              "   2\n",
              "3⋅z "
            ]
          },
          "metadata": {
            "tags": []
          },
          "execution_count": 9
        }
      ]
    },
    {
      "cell_type": "markdown",
      "metadata": {
        "id": "6G2ihfwspN9Q",
        "colab_type": "text"
      },
      "source": [
        "### Simplifying your work with `sympy.vector`\n",
        "\n",
        "As you can tell, computing gradients one partial derivative at a time can be somewhat time consuming. Not to mention that performing more sophisticated vector operations (like taking the divergence or curl of a vector field) are pretty difficult to do with just the `diff` function. Fortunately, [sympy has a vector library](http://docs.sympy.org/dev/modules/physics/vector/index.html) to help with these kinds of calculations. To do these kinds of calculations, you will first import the Cartesian coordinate system class (`CoordSysCartesian`) and then construct a Cartesian coordinate system that we can call `R`.\n",
        "\n",
        "*All that the two statements below do is provide you with the tools that will allow you to specify vector and scalar functions in a Cartesian Coordinate System that we call \"R.\" You will get more practice with specifiying vector functions using sympy.vector in another homework problem.*"
      ]
    },
    {
      "cell_type": "code",
      "metadata": {
        "id": "d9C8NFnFpN9Q",
        "colab_type": "code",
        "colab": {}
      },
      "source": [
        "from sympy.vector import CoordSysCartesian   # import the Cartesian coordinate system class\n",
        "R = CoordSysCartesian('R')                   # construct a coordinate system called 'R'"
      ],
      "execution_count": 0,
      "outputs": []
    },
    {
      "cell_type": "markdown",
      "metadata": {
        "id": "HSDTueEFpN9S",
        "colab_type": "text"
      },
      "source": [
        "### Method 2 - Computing gradients with the `delop` method\n",
        "\n",
        "The `sympy.vector` library has a method called `delop`, which stands for *del operator*. This method will allow the del operator to act on scalar and vector functions in different ways depending on how it is called. \n",
        "\n",
        "In this example, we use the `delop` method to compute the gradient of the same function $f(x,y,z) = x^2+y+z^3$ above. To use the `delop` method, we have to construct the scalar function $f$ in a slightly different way than was done before."
      ]
    },
    {
      "cell_type": "code",
      "metadata": {
        "id": "sASh4ZmdpN9T",
        "colab_type": "code",
        "colab": {}
      },
      "source": [
        "f = R.x**2 + R.y + R.z**3 ## Rewriting the function f (it replaces the old definition) so we can use the delop method"
      ],
      "execution_count": 0,
      "outputs": []
    },
    {
      "cell_type": "markdown",
      "metadata": {
        "id": "95TB896SpN9U",
        "colab_type": "text"
      },
      "source": [
        "When we define the function $f$ again, we have to use the \"dot structure\" to specify each variable in the function using the coordinate system (`R`) that we initialized above. So, `x` becomes `R.x`, `y` becomes `R.y`, and `z` becomes `R.z`. \n",
        "\n",
        "The gradient of this function is taken by using the `delop` method. Simply calling the `delop` method (below) doesn't perform the calculation, but shows you what calculation will be performed."
      ]
    },
    {
      "cell_type": "code",
      "metadata": {
        "id": "h3Tyt4tQpN9U",
        "colab_type": "code",
        "colab": {},
        "outputId": "755c35d7-c3c5-4113-f8c1-44718e862261"
      },
      "source": [
        "R.delop(f)   # Shows the calculation that will be performed"
      ],
      "execution_count": 0,
      "outputs": [
        {
          "output_type": "execute_result",
          "data": {
            "text/latex": "$$(\\frac{\\partial}{\\partial \\mathbf{{x}_{R}}}\\left(\\mathbf{{x}_{R}}^{2} + \\mathbf{{y}_{R}} + \\mathbf{{z}_{R}}^{3}\\right))\\mathbf{\\hat{i}_{R}} + (\\frac{\\partial}{\\partial \\mathbf{{y}_{R}}}\\left(\\mathbf{{x}_{R}}^{2} + \\mathbf{{y}_{R}} + \\mathbf{{z}_{R}}^{3}\\right))\\mathbf{\\hat{j}_{R}} + (\\frac{\\partial}{\\partial \\mathbf{{z}_{R}}}\\left(\\mathbf{{x}_{R}}^{2} + \\mathbf{{y}_{R}} + \\mathbf{{z}_{R}}^{3}\\right))\\mathbf{\\hat{k}_{R}}$$",
            "text/plain": [
              "⎛ ∂  ⎛   2            3⎞ R_i⎞ R_i + ⎛ ∂  ⎛   2            3⎞ R_j⎞ R_j + ⎛ ∂  ⎛\n",
              "⎜────⎝R_x  + R_y + R_z ⎠⎟           ⎜────⎝R_x  + R_y + R_z ⎠⎟           ⎜────⎝\n",
              "⎝∂R_x                   ⎠           ⎝∂R_y                   ⎠           ⎝∂R_z \n",
              "\n",
              "   2            3⎞ R_k⎞ R_k\n",
              "R_x  + R_y + R_z ⎠⎟        \n",
              "                  ⎠        "
            ]
          },
          "metadata": {
            "tags": []
          },
          "execution_count": 12
        }
      ]
    },
    {
      "cell_type": "markdown",
      "metadata": {
        "id": "S_OREQnBpN9X",
        "colab_type": "text"
      },
      "source": [
        "To indicate that you want the gradient computed, you must use the `doit()` method. This call is very similar to the one above with the addition of `.doit()` to the end."
      ]
    },
    {
      "cell_type": "code",
      "metadata": {
        "id": "vlFlNEM9pN9X",
        "colab_type": "code",
        "colab": {},
        "outputId": "46c9d354-0ea1-4006-f67b-839aa8aba03d"
      },
      "source": [
        "R.delop(f).doit()    # Do the calculation"
      ],
      "execution_count": 0,
      "outputs": [
        {
          "output_type": "execute_result",
          "data": {
            "text/latex": "$$(2 \\mathbf{{x}_{R}})\\mathbf{\\hat{i}_{R}} + \\mathbf{\\hat{j}_{R}} + (3 \\mathbf{{z}_{R}}^{2})\\mathbf{\\hat{k}_{R}}$$",
            "text/plain": [
              "(2⋅R_x) R_i + R_j + ⎛     2⎞ R_k\n",
              "                    ⎝3⋅R_z ⎠    "
            ]
          },
          "metadata": {
            "tags": []
          },
          "execution_count": 13
        }
      ]
    },
    {
      "cell_type": "markdown",
      "metadata": {
        "id": "cAdE6t0vpN9Z",
        "colab_type": "text"
      },
      "source": [
        "Notice that the full gradient has been taken (i.e., all partial derivatives have been taken). The components are clearly specified including the unit vectors ($\\hat{i},\\hat{j},\\hat{k}$). To see how the whole calculation hangs together, we can perform all this work in two lines for the function $g(x,y,z) = e^x\\sin(y)\\log(z)$ above."
      ]
    },
    {
      "cell_type": "code",
      "metadata": {
        "id": "ZrClKtjppN9a",
        "colab_type": "code",
        "colab": {},
        "outputId": "517d4f7e-50c6-43ee-8228-83528c2d6492"
      },
      "source": [
        "g = exp(R.x)*sin(R.y)*log(R.z)   # Construct the function g(x,y,z)\n",
        "R.delop(g).doit()                # Take the gradient of g(x,y,z)"
      ],
      "execution_count": 0,
      "outputs": [
        {
          "output_type": "execute_result",
          "data": {
            "text/latex": "$$(e^{\\mathbf{{x}_{R}}} \\log{\\left (\\mathbf{{z}_{R}} \\right )} \\sin{\\left (\\mathbf{{y}_{R}} \\right )})\\mathbf{\\hat{i}_{R}} + (e^{\\mathbf{{x}_{R}}} \\log{\\left (\\mathbf{{z}_{R}} \\right )} \\cos{\\left (\\mathbf{{y}_{R}} \\right )})\\mathbf{\\hat{j}_{R}} + (\\frac{e^{\\mathbf{{x}_{R}}}}{\\mathbf{{z}_{R}}} \\sin{\\left (\\mathbf{{y}_{R}} \\right )})\\mathbf{\\hat{k}_{R}}$$",
            "text/plain": [
              "⎛ R_x                  ⎞ R_i + ⎛ R_x                  ⎞ R_j + ⎛ R_x         ⎞ \n",
              "⎝ℯ   ⋅log(R_z)⋅sin(R_y)⎠       ⎝ℯ   ⋅log(R_z)⋅cos(R_y)⎠       ⎜ℯ   ⋅sin(R_y)⎟ \n",
              "                                                              ⎜─────────────⎟ \n",
              "                                                              ⎝     R_z     ⎠ \n",
              "\n",
              "R_k\n",
              "   \n",
              "   \n",
              "   "
            ]
          },
          "metadata": {
            "tags": []
          },
          "execution_count": 14
        }
      ]
    },
    {
      "cell_type": "markdown",
      "metadata": {
        "id": "XOoP3a30pN9b",
        "colab_type": "text"
      },
      "source": [
        "# Problems to solve\n",
        "\n",
        "Using what you've learned about either the `diff` function or the methods of `sympy.vector`, compute the gradients of:\n",
        "\n",
        "1. the magnitude of the separation vector, $|\\vec{\\mathfrak{r}}|$, and\n",
        "2. the inverse of the magntiude of the separation vector, $\\dfrac{1}{|\\vec{\\mathfrak{r}}|}$.\n",
        "\n",
        "Check these answers against what you obtained by hand. (*Hint: you will need to create three additional symoblic variables for the source location.*)"
      ]
    },
    {
      "cell_type": "code",
      "metadata": {
        "id": "aWri9INcpN9c",
        "colab_type": "code",
        "colab": {}
      },
      "source": [
        ""
      ],
      "execution_count": 0,
      "outputs": []
    }
  ]
}
